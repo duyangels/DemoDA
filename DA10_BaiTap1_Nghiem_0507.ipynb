{
 "cells": [
  {
   "cell_type": "markdown",
   "id": "d159aaf8",
   "metadata": {},
   "source": [
    "# Bài tập làm quen Python - DA10_Nghiêm - Hạn nộp 06/07/2023"
   ]
  },
  {
   "cell_type": "code",
   "execution_count": null,
   "id": "29db9d43",
   "metadata": {},
   "outputs": [
    {
     "name": "stdout",
     "output_type": "stream",
     "text": [
      "Vui lòng nhập Họ của bạn: nguyễn\n",
      "Vui lòng nhập Tên đệm(nếu có) và Tên của bạn: duy nghiêm\n",
      "Vui lòng nhập Danh xưng của bạn (Mr. hoặc Ms.): mr\n",
      "Vui lòng nhập năm sinh của bạn: 1983\n",
      "--------\n",
      "- Xin chào bạn:\u001b[1m mr nguyễn \u001b[0m\n",
      "- Tên in trên vé của bạn là:\u001b[1m nguyễn duy nghiêm \u001b[0m\n",
      "- Số ghế của bạn là 100\n",
      "- Bạn năm nay 40 tuổi\n",
      "Bạn có muốn nhập tiếp không 'yes' hoặc 'no':yes\n",
      "--------\n",
      "Vui lòng nhập Họ của bạn: nguyen\n",
      "Vui lòng nhập Tên đệm(nếu có) và Tên của bạn: trang\n",
      "Vui lòng nhập Danh xưng của bạn (Mr. hoặc Ms.): ms\n",
      "Vui lòng nhập năm sinh của bạn: 1984\n",
      "--------\n",
      "- Xin chào bạn:\u001b[1m ms nguyen \u001b[0m\n",
      "- Tên in trên vé của bạn là:\u001b[1m nguyen trang \u001b[0m\n",
      "- Số ghế của bạn là 101\n",
      "- Bạn năm nay 39 tuổi\n",
      "Bạn có muốn nhập tiếp không 'yes' hoặc 'no':yes\n",
      "--------\n",
      "Vui lòng nhập Họ của bạn: nguyen\n",
      "Vui lòng nhập Tên đệm(nếu có) và Tên của bạn: sada\n"
     ]
    }
   ],
   "source": [
    "import time\n",
    "get_time = time.localtime()\n",
    "\n",
    "running = True\n",
    "seats = 99\n",
    "age = 0\n",
    "\n",
    "while running:\n",
    "    seats += 1\n",
    "    fisrt_name = input(\"Vui lòng nhập Họ của bạn: \")\n",
    "    middle_last_name = input(\"Vui lòng nhập Tên đệm(nếu có) và Tên của bạn: \")\n",
    "    danh_xung = input(\"Vui lòng nhập Danh xưng của bạn (Mr. hoặc Ms.): \")\n",
    "    \n",
    "    birth_year = input(\"Vui lòng nhập năm sinh của bạn: \")\n",
    "    while True: \n",
    "        if int(birth_year) > get_time[0]:\n",
    "            print(\"Bạn chưa được sinh ra, vui lòng nhập lại\")\n",
    "            birth_year = input(\"Vui lòng nhập năm sinh của bạn: \")\n",
    "        else:\n",
    "            break\n",
    "            \n",
    "    full_name = (f\"{fisrt_name} {middle_last_name}\")\n",
    "\n",
    "    def In_Loi_Chao(fisrt_name):\n",
    "        print(f\"- Xin chào bạn:\\033[1m {danh_xung} {fisrt_name} \\033[0m\")\n",
    "    def In_Thong_Bao(full_name):\n",
    "        print(f\"- Tên in trên vé của bạn là:\\033[1m {full_name} \\033[0m\" )\n",
    "    def In_So_Ghe(seats):\n",
    "        print(\"- Số ghế của bạn là\", seats)\n",
    "    def In_Nam_sinh(age):\n",
    "        age = get_time[0] - int(birth_year)\n",
    "        print(f\"- Bạn năm nay {age} tuổi\")\n",
    "    \n",
    "    print(\"--------\")\n",
    "    In_Loi_Chao(fisrt_name)\n",
    "    In_Thong_Bao(full_name)\n",
    "    In_So_Ghe(seats)\n",
    "    In_Nam_sinh(age)\n",
    "    \n",
    "    input_continue = input(\"Bạn có muốn nhập tiếp không 'yes' hoặc 'no':\" )\n",
    "    while True:\n",
    "        if input_continue == \"yes\":\n",
    "            running = True\n",
    "            print(\"--------\")\n",
    "            break\n",
    "        elif input_continue == \"no\":\n",
    "            running = False\n",
    "            break\n",
    "        else:\n",
    "            print(\"Vui lòng nhập đúng cú pháp 'yes' hoặc 'no' \")\n",
    "            input_continue = input(\"Bạn có muốn nhập tiếp không 'yes' hoặc 'no':\" )\n",
    "            "
   ]
  },
  {
   "cell_type": "code",
   "execution_count": null,
   "id": "5e29ca21",
   "metadata": {},
   "outputs": [],
   "source": []
  }
 ],
 "metadata": {
  "kernelspec": {
   "display_name": "Python 3 (ipykernel)",
   "language": "python",
   "name": "python3"
  },
  "language_info": {
   "codemirror_mode": {
    "name": "ipython",
    "version": 3
   },
   "file_extension": ".py",
   "mimetype": "text/x-python",
   "name": "python",
   "nbconvert_exporter": "python",
   "pygments_lexer": "ipython3",
   "version": "3.10.9"
  }
 },
 "nbformat": 4,
 "nbformat_minor": 5
}
