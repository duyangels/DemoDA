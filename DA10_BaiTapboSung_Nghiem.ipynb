{
 "cells": [
  {
   "cell_type": "markdown",
   "id": "98802000",
   "metadata": {},
   "source": [
    "# Tuần 1 - Bài tập bổ sung trên lớp"
   ]
  },
  {
   "cell_type": "markdown",
   "id": "fbc4e427",
   "metadata": {},
   "source": [
    "### Mục tiêu\n",
    "- Hiểu về cách viết 1 hàm\n",
    "- Hiểu được cách lấy dữ liệu từ người dùng\n",
    "- Hiểu được cách chuyển dữ liệu từ \"string\" sang number\n",
    "- Nắm bắt được cách thức mở rộng tính năng từ 1 code sẵn có\n",
    "* Time: 10-15 minutes"
   ]
  },
  {
   "cell_type": "markdown",
   "id": "6e837801",
   "metadata": {},
   "source": [
    "### Bài tập: Tính chỉ số BMI (Body Mass Index)\n",
    "\n",
    "Yêu cầu:\n",
    "\n",
    "Viết một hàm có tên là calculate_bmi nhận đầu vào là chiều cao (đơn vị: mét) và cân nặng (đơn vị: kilogram) của một người.\n",
    "Hàm calculate_bmi sẽ tính chỉ số BMI bằng cách chia cân nặng cho bình phương chiều cao.\n",
    "Trả về kết quả chỉ số BMI đã tính.\n",
    "Gợi ý:\n",
    "\n",
    "Sử dụng công thức: BMI = cân nặng / (chiều cao * chiều cao)"
   ]
  },
  {
   "cell_type": "code",
   "execution_count": null,
   "id": "ba926eeb",
   "metadata": {},
   "outputs": [],
   "source": [
    "# Định nghĩa hàm calculate_bmi\n",
    "def calculate_bmi(height, weight):\n",
    "    bmi = weight / (height ** 2)\n",
    "    return bmi\n",
    "\n",
    "# Thử nghiệm hàm calculate_bmi với các giá trị chiều cao và cân nặng\n",
    "height = 1.75  # chiều cao = 1.75 mét\n",
    "weight = 68.5  # cân nặng = 68.5 kilogram\n",
    "\n",
    "bmi = calculate_bmi(height, weight)\n",
    "print(\"Chỉ số BMI của bạn:\", bmi)\n"
   ]
  },
  {
   "cell_type": "markdown",
   "id": "251599b0",
   "metadata": {},
   "source": [
    "# Challenge\n",
    "Bài tập trên thì chúng ta thấy height và weight là các biến chúng ta gán trực tiếp trong code.\n",
    "Hãy viết lại chương trình trên, tuy nhiên giá trị height và weight thì lấy từ bàn phím."
   ]
  },
  {
   "cell_type": "code",
   "execution_count": 2,
   "id": "e8d012b3",
   "metadata": {},
   "outputs": [
    {
     "name": "stdout",
     "output_type": "stream",
     "text": [
      "Nhập chiều cao của bạn 1m50 bạn nhập '1.50': 1.75\n",
      "Nhập cân nặng của bạn 50.5 bạn nhập '50': 75\n",
      "Chỉ số BMI của bạn là: 24.49\n",
      "Cân nặng bình thường\n"
     ]
    }
   ],
   "source": [
    "#Your code here\n",
    "def calculate_bmi(height, weight):\n",
    "    bmi = weight / (height ** 2)\n",
    "    return bmi\n",
    "\n",
    "# Thử nghiệm hàm calculate_bmi với các giá trị chiều cao và cân nặng\n",
    "height = float(input(\"Nhập chiều cao của bạn 1m50 bạn nhập '1.50': \"))\n",
    "weight = float(input(\"Nhập cân nặng của bạn 50.5kg bạn nhập '50.5': \"))\n",
    "\n",
    "bmi = calculate_bmi(height, weight)\n",
    "print(\"Chỉ số BMI của bạn là:\", round(bmi,2))\n",
    "\n",
    "if bmi < 18.5:\n",
    "    print(\"Bạn bị nhẹ cân\")\n",
    "elif 18.5 <= bmi > 22.9:\n",
    "    print(\"Cân nặng bình thường\")\n",
    "else:\n",
    "    print(\"Bạn bị béo phì\")\n"
   ]
  },
  {
   "cell_type": "code",
   "execution_count": null,
   "id": "fb7ee301",
   "metadata": {},
   "outputs": [],
   "source": []
  }
 ],
 "metadata": {
  "kernelspec": {
   "display_name": "Python 3 (ipykernel)",
   "language": "python",
   "name": "python3"
  },
  "language_info": {
   "codemirror_mode": {
    "name": "ipython",
    "version": 3
   },
   "file_extension": ".py",
   "mimetype": "text/x-python",
   "name": "python",
   "nbconvert_exporter": "python",
   "pygments_lexer": "ipython3",
   "version": "3.10.9"
  }
 },
 "nbformat": 4,
 "nbformat_minor": 5
}
